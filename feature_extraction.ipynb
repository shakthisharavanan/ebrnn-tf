{
 "cells": [
  {
   "cell_type": "code",
   "execution_count": 1,
   "metadata": {},
   "outputs": [],
   "source": [
    "import sys\n",
    "import os\n",
    "from os import path\n",
    "\n",
    "import tensorflow as tf\n",
    "import numpy as np\n",
    "\n",
    "from tqdm import tqdm, trange\n",
    "import glob\n",
    "import time\n",
    "import pandas as pd\n",
    "import h5py\n",
    "import pickle as pkl\n",
    "import subprocess\n",
    "\n",
    "os.environ[\"CUDA_DEVICE_ORDER\"]=\"PCI_BUS_ID\"\n",
    "os.environ[\"CUDA_VISIBLE_DEVICES\"] = '0'\n",
    "os.environ['TF_CPP_MIN_LOG_LEVEL'] = '3'"
   ]
  },
  {
   "cell_type": "markdown",
   "metadata": {},
   "source": [
    "## Config"
   ]
  },
  {
   "cell_type": "code",
   "execution_count": 2,
   "metadata": {},
   "outputs": [],
   "source": [
    "slim_dir = \"/mnt/workspace/models/research/slim/\"\n",
    "sys.path.insert(0, slim_dir)\n",
    "from nets import vgg\n",
    "image_size = vgg.vgg_16.default_image_size\n",
    "# print(image_size)\n",
    "\n",
    "dataset_path = \"/mnt/workspace/datasets/ucf101/ucf24/\"\n",
    "batch_size = 16"
   ]
  },
  {
   "cell_type": "markdown",
   "metadata": {},
   "source": [
    "## Read data"
   ]
  },
  {
   "cell_type": "code",
   "execution_count": null,
   "metadata": {},
   "outputs": [],
   "source": []
  },
  {
   "cell_type": "markdown",
   "metadata": {},
   "source": [
    "## Define graph "
   ]
  },
  {
   "cell_type": "code",
   "execution_count": 3,
   "metadata": {},
   "outputs": [
    {
     "name": "stdout",
     "output_type": "stream",
     "text": [
      "Tensor(\"vgg_16/fc7/Relu:0\", shape=(16, 1, 1, 4096), dtype=float32)\n"
     ]
    }
   ],
   "source": [
    "slim = tf.contrib.slim\n",
    "\n",
    "with tf.Graph().as_default():\n",
    "\tinput_batch = tf.placeholder(dtype=tf.uint8, shape=(batch_size,320,240,3))\n",
    "\t# print(input_batch)\n",
    "\tresized_images = tf.image.resize_images(tf.image.convert_image_dtype(input_batch, dtype=tf.float32),\n",
    "\t\t\t\t\t\t[image_size,image_size]) # resize to default vgg size\n",
    "\t# print(resized_images)\n",
    "\tnormalized_images = tf.multiply(tf.subtract(resized_images, 0.5), 2.0) #normalise from {0,1} to {-1,1}\n",
    "\t# print(normalized_images)\n",
    "\twith slim.arg_scope(vgg.vgg_arg_scope()):\n",
    "\t\toutputs, end_points = vgg.vgg_16(normalized_images,\n",
    "\t\t\t\t\t\t\t\t\t\tnum_classes=1001, is_training=False)\n",
    "\t\tfinal_conv = end_points['vgg_16/conv5/conv5_3']\n",
    "\t\tfc7 = end_points['vgg_16/fc7']\n",
    "\t\tprint(fc7)"
   ]
  },
  {
   "cell_type": "code",
   "execution_count": null,
   "metadata": {},
   "outputs": [],
   "source": []
  }
 ],
 "metadata": {
  "kernelspec": {
   "display_name": "Python 3",
   "language": "python",
   "name": "python3"
  },
  "language_info": {
   "codemirror_mode": {
    "name": "ipython",
    "version": 3
   },
   "file_extension": ".py",
   "mimetype": "text/x-python",
   "name": "python",
   "nbconvert_exporter": "python",
   "pygments_lexer": "ipython3",
   "version": "3.6.6"
  }
 },
 "nbformat": 4,
 "nbformat_minor": 2
}
